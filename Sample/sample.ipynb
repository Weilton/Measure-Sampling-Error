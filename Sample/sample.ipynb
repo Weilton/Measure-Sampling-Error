{
 "cells": [
  {
   "cell_type": "markdown",
   "metadata": {},
   "source": [
    "# In this notebook we will be to measure sampling error the data set about basketball players in WNBA (Women's National Basketball Association), and contains general information about players, along with their metrics for the season 2016-2017"
   ]
  },
  {
   "cell_type": "code",
   "execution_count": 21,
   "metadata": {},
   "outputs": [],
   "source": [
    "import pandas as pd\n",
    "import matplotlib.pyplot as plt\n",
    "from IPython.display import Image"
   ]
  },
  {
   "cell_type": "code",
   "execution_count": 3,
   "metadata": {},
   "outputs": [],
   "source": [
    "wnba = pd.read_csv(\"data/wnba.csv\")"
   ]
  },
  {
   "cell_type": "code",
   "execution_count": 5,
   "metadata": {},
   "outputs": [
    {
     "data": {
      "text/plain": [
       "Index(['Name', 'Team', 'Pos', 'Height', 'Weight', 'BMI', 'Birth_Place',\n",
       "       'Birthdate', 'Age', 'College', 'Experience', 'Games Played', 'MIN',\n",
       "       'FGM', 'FGA', 'FG%', '15:00', '3PA', '3P%', 'FTM', 'FTA', 'FT%', 'OREB',\n",
       "       'DREB', 'REB', 'AST', 'STL', 'BLK', 'TO', 'PTS', 'DD2', 'TD3'],\n",
       "      dtype='object')"
      ]
     },
     "execution_count": 5,
     "metadata": {},
     "output_type": "execute_result"
    }
   ],
   "source": [
    "wnba.columns"
   ]
  },
  {
   "cell_type": "code",
   "execution_count": 6,
   "metadata": {},
   "outputs": [
    {
     "data": {
      "text/plain": [
       "(143, 32)"
      ]
     },
     "execution_count": 6,
     "metadata": {},
     "output_type": "execute_result"
    }
   ],
   "source": [
    "wnba.shape"
   ]
  },
  {
   "cell_type": "code",
   "execution_count": 7,
   "metadata": {},
   "outputs": [
    {
     "data": {
      "text/html": [
       "<div>\n",
       "<style scoped>\n",
       "    .dataframe tbody tr th:only-of-type {\n",
       "        vertical-align: middle;\n",
       "    }\n",
       "\n",
       "    .dataframe tbody tr th {\n",
       "        vertical-align: top;\n",
       "    }\n",
       "\n",
       "    .dataframe thead th {\n",
       "        text-align: right;\n",
       "    }\n",
       "</style>\n",
       "<table border=\"1\" class=\"dataframe\">\n",
       "  <thead>\n",
       "    <tr style=\"text-align: right;\">\n",
       "      <th></th>\n",
       "      <th>Name</th>\n",
       "      <th>Team</th>\n",
       "      <th>Pos</th>\n",
       "      <th>Height</th>\n",
       "      <th>Weight</th>\n",
       "      <th>BMI</th>\n",
       "      <th>Birth_Place</th>\n",
       "      <th>Birthdate</th>\n",
       "      <th>Age</th>\n",
       "      <th>College</th>\n",
       "      <th>...</th>\n",
       "      <th>OREB</th>\n",
       "      <th>DREB</th>\n",
       "      <th>REB</th>\n",
       "      <th>AST</th>\n",
       "      <th>STL</th>\n",
       "      <th>BLK</th>\n",
       "      <th>TO</th>\n",
       "      <th>PTS</th>\n",
       "      <th>DD2</th>\n",
       "      <th>TD3</th>\n",
       "    </tr>\n",
       "  </thead>\n",
       "  <tbody>\n",
       "    <tr>\n",
       "      <th>0</th>\n",
       "      <td>Aerial Powers</td>\n",
       "      <td>DAL</td>\n",
       "      <td>F</td>\n",
       "      <td>183</td>\n",
       "      <td>71.0</td>\n",
       "      <td>21.200991</td>\n",
       "      <td>US</td>\n",
       "      <td>January 17, 1994</td>\n",
       "      <td>23</td>\n",
       "      <td>Michigan State</td>\n",
       "      <td>...</td>\n",
       "      <td>6</td>\n",
       "      <td>22</td>\n",
       "      <td>28</td>\n",
       "      <td>12</td>\n",
       "      <td>3</td>\n",
       "      <td>6</td>\n",
       "      <td>12</td>\n",
       "      <td>93</td>\n",
       "      <td>0</td>\n",
       "      <td>0</td>\n",
       "    </tr>\n",
       "    <tr>\n",
       "      <th>1</th>\n",
       "      <td>Alana Beard</td>\n",
       "      <td>LA</td>\n",
       "      <td>G/F</td>\n",
       "      <td>185</td>\n",
       "      <td>73.0</td>\n",
       "      <td>21.329438</td>\n",
       "      <td>US</td>\n",
       "      <td>May 14, 1982</td>\n",
       "      <td>35</td>\n",
       "      <td>Duke</td>\n",
       "      <td>...</td>\n",
       "      <td>19</td>\n",
       "      <td>82</td>\n",
       "      <td>101</td>\n",
       "      <td>72</td>\n",
       "      <td>63</td>\n",
       "      <td>13</td>\n",
       "      <td>40</td>\n",
       "      <td>217</td>\n",
       "      <td>0</td>\n",
       "      <td>0</td>\n",
       "    </tr>\n",
       "    <tr>\n",
       "      <th>2</th>\n",
       "      <td>Alex Bentley</td>\n",
       "      <td>CON</td>\n",
       "      <td>G</td>\n",
       "      <td>170</td>\n",
       "      <td>69.0</td>\n",
       "      <td>23.875433</td>\n",
       "      <td>US</td>\n",
       "      <td>October 27, 1990</td>\n",
       "      <td>26</td>\n",
       "      <td>Penn State</td>\n",
       "      <td>...</td>\n",
       "      <td>4</td>\n",
       "      <td>36</td>\n",
       "      <td>40</td>\n",
       "      <td>78</td>\n",
       "      <td>22</td>\n",
       "      <td>3</td>\n",
       "      <td>24</td>\n",
       "      <td>218</td>\n",
       "      <td>0</td>\n",
       "      <td>0</td>\n",
       "    </tr>\n",
       "    <tr>\n",
       "      <th>3</th>\n",
       "      <td>Alex Montgomery</td>\n",
       "      <td>SAN</td>\n",
       "      <td>G/F</td>\n",
       "      <td>185</td>\n",
       "      <td>84.0</td>\n",
       "      <td>24.543462</td>\n",
       "      <td>US</td>\n",
       "      <td>December 11, 1988</td>\n",
       "      <td>28</td>\n",
       "      <td>Georgia Tech</td>\n",
       "      <td>...</td>\n",
       "      <td>35</td>\n",
       "      <td>134</td>\n",
       "      <td>169</td>\n",
       "      <td>65</td>\n",
       "      <td>20</td>\n",
       "      <td>10</td>\n",
       "      <td>38</td>\n",
       "      <td>188</td>\n",
       "      <td>2</td>\n",
       "      <td>0</td>\n",
       "    </tr>\n",
       "    <tr>\n",
       "      <th>4</th>\n",
       "      <td>Alexis Jones</td>\n",
       "      <td>MIN</td>\n",
       "      <td>G</td>\n",
       "      <td>175</td>\n",
       "      <td>78.0</td>\n",
       "      <td>25.469388</td>\n",
       "      <td>US</td>\n",
       "      <td>August 5, 1994</td>\n",
       "      <td>23</td>\n",
       "      <td>Baylor</td>\n",
       "      <td>...</td>\n",
       "      <td>3</td>\n",
       "      <td>9</td>\n",
       "      <td>12</td>\n",
       "      <td>12</td>\n",
       "      <td>7</td>\n",
       "      <td>0</td>\n",
       "      <td>14</td>\n",
       "      <td>50</td>\n",
       "      <td>0</td>\n",
       "      <td>0</td>\n",
       "    </tr>\n",
       "  </tbody>\n",
       "</table>\n",
       "<p>5 rows × 32 columns</p>\n",
       "</div>"
      ],
      "text/plain": [
       "              Name Team  Pos  Height  Weight        BMI Birth_Place  \\\n",
       "0    Aerial Powers  DAL    F     183    71.0  21.200991          US   \n",
       "1      Alana Beard   LA  G/F     185    73.0  21.329438          US   \n",
       "2     Alex Bentley  CON    G     170    69.0  23.875433          US   \n",
       "3  Alex Montgomery  SAN  G/F     185    84.0  24.543462          US   \n",
       "4     Alexis Jones  MIN    G     175    78.0  25.469388          US   \n",
       "\n",
       "           Birthdate  Age         College  ... OREB  DREB  REB  AST  STL  BLK  \\\n",
       "0   January 17, 1994   23  Michigan State  ...    6    22   28   12    3    6   \n",
       "1       May 14, 1982   35            Duke  ...   19    82  101   72   63   13   \n",
       "2   October 27, 1990   26      Penn State  ...    4    36   40   78   22    3   \n",
       "3  December 11, 1988   28    Georgia Tech  ...   35   134  169   65   20   10   \n",
       "4     August 5, 1994   23          Baylor  ...    3     9   12   12    7    0   \n",
       "\n",
       "   TO  PTS  DD2  TD3  \n",
       "0  12   93    0    0  \n",
       "1  40  217    0    0  \n",
       "2  24  218    0    0  \n",
       "3  38  188    2    0  \n",
       "4  14   50    0    0  \n",
       "\n",
       "[5 rows x 32 columns]"
      ]
     },
     "execution_count": 7,
     "metadata": {},
     "output_type": "execute_result"
    }
   ],
   "source": [
    "wnba.head()"
   ]
  },
  {
   "cell_type": "code",
   "execution_count": 17,
   "metadata": {},
   "outputs": [
    {
     "data": {
      "image/png": "[encoded data removed]",
      "text/plain": [
       "<IPython.core.display.Image object>"
      ]
     },
     "execution_count": 17,
     "metadata": {},
     "output_type": "execute_result"
    }
   ],
   "source": [
    "# Columns description\n",
    "Image(\"image/description.png\")"
   ]
  },
  {
   "cell_type": "code",
   "execution_count": 19,
   "metadata": {},
   "outputs": [],
   "source": [
    "# Get the maximum value from 'ames Played' column\n",
    "parameter = wnba['Games Played'].max()\n",
    "\n",
    "# Using the 'Series.sample' method to get the 30 players randomly\n",
    "sample = wnba['Games Played'].sample(30)\n",
    "\n",
    "# Findind the maximum number of games\n",
    "statistic = sample.max()\n",
    "\n",
    "# Measure the sample eror\n",
    "# When we sample we want to minimize the sampling error as much as possible.\n",
    "# We want our sample to mirror the population as closely as possible.\n",
    "sampling_error = parameter - statistic"
   ]
  },
  {
   "cell_type": "code",
   "execution_count": 22,
   "metadata": {},
   "outputs": [
    {
     "data": {
      "text/plain": [
       "<matplotlib.lines.Line2D at 0xd8e0d90>"
      ]
     },
     "execution_count": 22,
     "metadata": {},
     "output_type": "execute_result"
    },
    {
     "data": {
      "image/png": "[encoded data removed]",
      "text/plain": [
       "<Figure size 432x288 with 1 Axes>"
      ]
     },
     "metadata": {
      "needs_background": "light"
     },
     "output_type": "display_data"
    }
   ],
   "source": [
    "# Show the discrepancy between a parameter and its corresponding statistics\n",
    "\n",
    "# Crate a list\n",
    "sample_means = []\n",
    "\n",
    "# Masure the 'PTS' column\n",
    "population_mean = wnba['PTS'].mean()\n",
    "\n",
    "# Display the discrepancy between the parameter of interest and the statistics\n",
    "for i in range(100):\n",
    "    sample = wnba['PTS'].sample(10, random_state = i)\n",
    "    sample_means.append(sample.mean()) # append to the list\n",
    "    \n",
    "# Plor 100 sample using scatter.plot\n",
    "plt.scatter(range(1,101), sample_means) # using integers from 1 to 100 to designate the sample number\n",
    "plt.axhline(population_mean)"
   ]
  },
  {
   "cell_type": "raw",
   "metadata": {},
   "source": [
    "Observe that the sampling error is quite large for some of the cases, cause the number of sample is very small"
   ]
  },
  {
   "cell_type": "raw",
   "metadata": {},
   "source": [
    " Players in basketball play in different positions on the court. The metrics of a player (number of points, number of assists, etc.) depend on their position, and we might want to analyze the patterns for each individual position. If we perform simple random sampling, there's a chance that some categories won't be included in our sample"
   ]
  },
  {
   "cell_type": "code",
   "execution_count": 24,
   "metadata": {},
   "outputs": [
    {
     "data": {
      "image/png": "[encoded data removed]",
      "text/plain": [
       "<IPython.core.display.Image object>"
      ]
     },
     "execution_count": 24,
     "metadata": {},
     "output_type": "execute_result"
    }
   ],
   "source": [
    "# Show the positions abbreviations\n",
    "Image(\"image/positions.png\")"
   ]
  },
  {
   "cell_type": "raw",
   "metadata": {},
   "source": [
    "New columns which describes the number of points a player scored per game during the season.\n",
    "The number of total points a player scored the entire season is stored in the PTS column,\n",
    "and the number of games played in the Games Played colum"
   ]
  },
  {
   "cell_type": "code",
   "execution_count": 25,
   "metadata": {},
   "outputs": [],
   "source": [
    "wnba['Pts_per_game'] = wnba['PTS'] / wnba['Games Played']\n",
    "\n",
    "# Stratifying the data in five strata\n",
    "stratum_G = wnba[wnba.Pos == 'G']\n",
    "stratum_F = wnba[wnba.Pos == 'F']\n",
    "stratum_C = wnba[wnba.Pos == 'C']\n",
    "stratum_GF = wnba[wnba.Pos == 'G/F']\n",
    "stratum_FC = wnba[wnba.Pos == 'F/C']\n",
    "\n",
    "points_per_position = {}\n",
    "\n",
    "# Find the mean points per game using the sample. Use the new column you've created earlier\n",
    "# Find a way to store the mean along with its corresponding position. You can use a dictionary\n",
    "for stratum, position in [(stratum_G, 'G'), (stratum_F, 'F'), (stratum_C, 'C'),\n",
    "                (stratum_GF, 'G/F'), (stratum_FC, 'F/C')]:\n",
    "    sample = stratum['Pts_per_game'].sample(10, random_state = 0)\n",
    "    points_per_position[position] = sample.mean()\n",
    "    \n",
    "position_most_points = max(points_per_position, key = points_per_position.get)"
   ]
  },
  {
   "cell_type": "code",
   "execution_count": 26,
   "metadata": {},
   "outputs": [
    {
     "data": {
      "text/plain": [
       "2"
      ]
     },
     "execution_count": 26,
     "metadata": {},
     "output_type": "execute_result"
    }
   ],
   "source": [
    "# Show the minimun games\n",
    "wnba['Games Played'].min()"
   ]
  },
  {
   "cell_type": "code",
   "execution_count": 27,
   "metadata": {},
   "outputs": [
    {
     "data": {
      "text/plain": [
       "32"
      ]
     },
     "execution_count": 27,
     "metadata": {},
     "output_type": "execute_result"
    }
   ],
   "source": [
    "# Show the maximun games\n",
    "wnba['Games Played'].max()"
   ]
  },
  {
   "cell_type": "raw",
   "metadata": {},
   "source": [
    "Approximately 72.7% of the players had more than 23 games for the 2016-2017 season, which means that the mean of the total points is probably influenced by this category of players who played a lot of games. Let's take a look at the other percentages too"
   ]
  },
  {
   "cell_type": "code",
   "execution_count": 28,
   "metadata": {},
   "outputs": [
    {
     "data": {
      "text/plain": [
       "(22.0, 32.0]     72.727273\n",
       "(12.0, 22.0]     18.181818\n",
       "(1.969, 12.0]     9.090909\n",
       "Name: Games Played, dtype: float64"
      ]
     },
     "execution_count": 28,
     "metadata": {},
     "output_type": "execute_result"
    }
   ],
   "source": [
    "wnba['Games Played'].value_counts(bins = 3, normalize = True) * 100"
   ]
  },
  {
   "cell_type": "raw",
   "metadata": {},
   "source": [
    "14 individuals played more than 22 games.\n",
    "4 individuals played between 13 and 22 games.\n",
    "2 individuals played below 13 games.\n",
    "\n",
    "Stratify the data set by the number of games played in the following way: the first strata should be composed of players that played 12 games or less; the second of players that played more than 12 games, but up to 22 (included); and the third of players that played more than 22 games (22 not included)."
   ]
  },
  {
   "cell_type": "code",
   "execution_count": 30,
   "metadata": {},
   "outputs": [
    {
     "data": {
      "text/plain": [
       "<matplotlib.lines.Line2D at 0xf0b2b30>"
      ]
     },
     "execution_count": 30,
     "metadata": {},
     "output_type": "execute_result"
    },
    {
     "data": {
      "image/png": "[encoded data removed]",
      "text/plain": [
       "<Figure size 432x288 with 1 Axes>"
      ]
     },
     "metadata": {
      "needs_background": "light"
     },
     "output_type": "display_data"
    }
   ],
   "source": [
    "under_12 = wnba[wnba['Games Played'] <= 12]\n",
    "btw_13_22 = wnba[(wnba['Games Played'] > 12) & (wnba['Games Played'] <= 22)] \n",
    "over_23 = wnba[wnba['Games Played'] > 22]\n",
    "\n",
    "proportional_sampling_means = []\n",
    "\n",
    "# Sample each stratum proportionally. Sample at random: one sample observation from the first stratum,\n",
    "# two sample observations from the second, and seven sample observations from the third stratum\n",
    "for i in range(100):\n",
    "    sample_under_12 = under_12['PTS'].sample(1, random_state = i)\n",
    "    sample_btw_13_22 = btw_13_22['PTS'].sample(2, random_state = i)\n",
    "    sample_over_23 = over_23['PTS'].sample(7, random_state = i)\n",
    "    \n",
    "    final_sample = pd.concat([sample_under_12, sample_btw_13_22, sample_over_23])\n",
    "    proportional_sampling_means.append(final_sample.mean())\n",
    "\n",
    "# Display the sampling means on a scatter plo\n",
    "plt.scatter(range(1,101), proportional_sampling_means)\n",
    "plt.axhline(wnba['PTS'].mean())"
   ]
  },
  {
   "cell_type": "code",
   "execution_count": 33,
   "metadata": {},
   "outputs": [
    {
     "data": {
      "text/plain": [
       "array(['DAL', 'LA', 'CON', 'SAN', 'MIN', 'SEA', 'PHO', 'CHI', 'WAS', 'NY',\n",
       "       'ATL', 'IND'], dtype=object)"
      ]
     },
     "execution_count": 33,
     "metadata": {},
     "output_type": "execute_result"
    }
   ],
   "source": [
    "# Show the unique value from 'Team' column\n",
    "wnba['Team'].unique()"
   ]
  },
  {
   "cell_type": "code",
   "execution_count": 35,
   "metadata": {},
   "outputs": [
    {
     "data": {
      "text/plain": [
       "9      NY\n",
       "2     CON\n",
       "11    IND\n",
       "8     WAS\n",
       "dtype: object"
      ]
     },
     "execution_count": 35,
     "metadata": {},
     "output_type": "execute_result"
    }
   ],
   "source": [
    "# Clustering the values and get 4 sample\n",
    "pd.Series(wnba['Team'].unique()).sample(4)"
   ]
  },
  {
   "cell_type": "code",
   "execution_count": 37,
   "metadata": {},
   "outputs": [],
   "source": [
    "# Simulate a cluster sampling\n",
    "clusters = pd.Series(wnba['Team'].unique()).sample(4, random_state = 0)\n",
    "\n",
    "sample = pd.DataFrame()\n",
    "\n",
    "for cluster in clusters:\n",
    "    data_collected = wnba[wnba['Team'] == cluster]\n",
    "    sample = sample.append(data_collected)\n",
    "\n",
    "# Assign the errors to the following variables\n",
    "sampling_error_height = wnba['Height'].mean() - sample['Height'].mean()\n",
    "sampling_error_age = wnba['Age'].mean() - sample['Age'].mean()\n",
    "sampling_error_BMI = wnba['BMI'].mean() - sample['BMI'].mean()\n",
    "sampling_error_points = wnba['PTS'].mean() - sample['PTS'].mean()"
   ]
  },
  {
   "cell_type": "code",
   "execution_count": 45,
   "metadata": {},
   "outputs": [
    {
     "name": "stdout",
     "output_type": "stream",
     "text": [
      "sampling_error_height:  -0.06400121617511445\n",
      "sampling_error_age:  -1.401337792642142\n",
      "sampling_error_BMI:  0.23095444165950596\n",
      "sampling_error_points:  -27.79674673152934\n"
     ]
    }
   ],
   "source": [
    "print(\"sampling_error_height: \", sampling_error_height)\n",
    "print(\"sampling_error_age: \", sampling_error_age)\n",
    "print(\"sampling_error_BMI: \", sampling_error_BMI)\n",
    "print(\"sampling_error_points: \", sampling_error_points)"
   ]
  }
 ],
 "metadata": {
  "kernelspec": {
   "display_name": "Python 3",
   "language": "python",
   "name": "python3"
  },
  "language_info": {
   "codemirror_mode": {
    "name": "ipython",
    "version": 3
   },
   "file_extension": ".py",
   "mimetype": "text/x-python",
   "name": "python",
   "nbconvert_exporter": "python",
   "pygments_lexer": "ipython3",
   "version": "3.7.3"
  }
 },
 "nbformat": 4,
 "nbformat_minor": 2
}
